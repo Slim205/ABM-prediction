{
  "cells": [
    {
      "cell_type": "markdown",
      "metadata": {
        "id": "view-in-github",
        "colab_type": "text"
      },
      "source": [
        "<a href=\"https://colab.research.google.com/github/Slim205/ABM-prediction/blob/main/partie2_investor_behavior.ipynb\" target=\"_parent\"><img src=\"https://colab.research.google.com/assets/colab-badge.svg\" alt=\"Open In Colab\"/></a>"
      ]
    },
    {
      "cell_type": "code",
      "execution_count": null,
      "metadata": {
        "id": "_s6kBRJky76t"
      },
      "outputs": [],
      "source": [
        "import numpy as np\n",
        "import matplotlib.pyplot as plt\n",
        "import pandas as pd"
      ]
    },
    {
      "cell_type": "markdown",
      "metadata": {
        "id": "8tPXkNFTi-O3"
      },
      "source": [
        "# exploration"
      ]
    },
    {
      "cell_type": "code",
      "execution_count": null,
      "metadata": {
        "id": "-1_eCH7c1Apm"
      },
      "outputs": [],
      "source": [
        "# This function computes a curve with a powerlaw exponent between xmin, xmax.\n",
        "# you can shift on the vertical axis the curve with ymax parameter\n",
        "\n",
        "def compute_powerlaw_curve(xmin,xmax,ymax,alpha):\n",
        "\n",
        "    dx = np.linspace(xmin,xmax,100)\n",
        "\n",
        "    y = dx**(-alpha)\n",
        "\n",
        "    return dx,  ymax*y/y[0] #The output are the x and y ready for the plot\n",
        ""
      ]
    },
    {
      "cell_type": "code",
      "execution_count": null,
      "metadata": {
        "id": "rtA211osi-O5"
      },
      "outputs": [],
      "source": [
        "df_investors = pd.read_csv('TEF_Investors.csv')\n",
        "df_prices = pd.read_csv('TEF_Prices.csv')"
      ]
    },
    {
      "cell_type": "code",
      "execution_count": null,
      "metadata": {
        "colab": {
          "base_uri": "https://localhost:8080/",
          "height": 423
        },
        "id": "fdDMGmOKYJPt",
        "outputId": "85e123d0-1e15-42e8-c1c3-b28c70f2041b"
      },
      "outputs": [
        {
          "data": {
            "text/html": [
              "<div>\n",
              "<style scoped>\n",
              "    .dataframe tbody tr th:only-of-type {\n",
              "        vertical-align: middle;\n",
              "    }\n",
              "\n",
              "    .dataframe tbody tr th {\n",
              "        vertical-align: top;\n",
              "    }\n",
              "\n",
              "    .dataframe thead th {\n",
              "        text-align: right;\n",
              "    }\n",
              "</style>\n",
              "<table border=\"1\" class=\"dataframe\">\n",
              "  <thead>\n",
              "    <tr style=\"text-align: right;\">\n",
              "      <th></th>\n",
              "      <th>investor_id</th>\n",
              "      <th>date</th>\n",
              "      <th>position</th>\n",
              "    </tr>\n",
              "  </thead>\n",
              "  <tbody>\n",
              "    <tr>\n",
              "      <th>0</th>\n",
              "      <td>18433</td>\n",
              "      <td>2000-01-03</td>\n",
              "      <td>0.0</td>\n",
              "    </tr>\n",
              "    <tr>\n",
              "      <th>1</th>\n",
              "      <td>18433</td>\n",
              "      <td>2000-01-04</td>\n",
              "      <td>0.0</td>\n",
              "    </tr>\n",
              "    <tr>\n",
              "      <th>2</th>\n",
              "      <td>18433</td>\n",
              "      <td>2000-01-05</td>\n",
              "      <td>0.0</td>\n",
              "    </tr>\n",
              "    <tr>\n",
              "      <th>3</th>\n",
              "      <td>18433</td>\n",
              "      <td>2000-01-07</td>\n",
              "      <td>0.0</td>\n",
              "    </tr>\n",
              "    <tr>\n",
              "      <th>4</th>\n",
              "      <td>18433</td>\n",
              "      <td>2000-01-10</td>\n",
              "      <td>0.0</td>\n",
              "    </tr>\n",
              "    <tr>\n",
              "      <th>...</th>\n",
              "      <td>...</td>\n",
              "      <td>...</td>\n",
              "      <td>...</td>\n",
              "    </tr>\n",
              "    <tr>\n",
              "      <th>900423</th>\n",
              "      <td>551</td>\n",
              "      <td>2007-10-10</td>\n",
              "      <td>2456.0</td>\n",
              "    </tr>\n",
              "    <tr>\n",
              "      <th>900424</th>\n",
              "      <td>551</td>\n",
              "      <td>2007-10-11</td>\n",
              "      <td>2456.0</td>\n",
              "    </tr>\n",
              "    <tr>\n",
              "      <th>900425</th>\n",
              "      <td>551</td>\n",
              "      <td>2007-10-12</td>\n",
              "      <td>2456.0</td>\n",
              "    </tr>\n",
              "    <tr>\n",
              "      <th>900426</th>\n",
              "      <td>551</td>\n",
              "      <td>2007-10-15</td>\n",
              "      <td>2456.0</td>\n",
              "    </tr>\n",
              "    <tr>\n",
              "      <th>900427</th>\n",
              "      <td>551</td>\n",
              "      <td>2007-10-16</td>\n",
              "      <td>2456.0</td>\n",
              "    </tr>\n",
              "  </tbody>\n",
              "</table>\n",
              "<p>900428 rows × 3 columns</p>\n",
              "</div>"
            ],
            "text/plain": [
              "        investor_id        date  position\n",
              "0             18433  2000-01-03       0.0\n",
              "1             18433  2000-01-04       0.0\n",
              "2             18433  2000-01-05       0.0\n",
              "3             18433  2000-01-07       0.0\n",
              "4             18433  2000-01-10       0.0\n",
              "...             ...         ...       ...\n",
              "900423          551  2007-10-10    2456.0\n",
              "900424          551  2007-10-11    2456.0\n",
              "900425          551  2007-10-12    2456.0\n",
              "900426          551  2007-10-15    2456.0\n",
              "900427          551  2007-10-16    2456.0\n",
              "\n",
              "[900428 rows x 3 columns]"
            ]
          },
          "execution_count": 4,
          "metadata": {},
          "output_type": "execute_result"
        }
      ],
      "source": [
        "df_investors"
      ]
    },
    {
      "cell_type": "code",
      "execution_count": null,
      "metadata": {
        "colab": {
          "base_uri": "https://localhost:8080/",
          "height": 489
        },
        "id": "X-rpzw7RYXlk",
        "outputId": "02b77d46-16a8-4ea6-a493-c58f06e06795"
      },
      "outputs": [
        {
          "data": {
            "text/plain": [
              "Text(0.5, 1.0, 'TEF Close Price')"
            ]
          },
          "execution_count": 5,
          "metadata": {},
          "output_type": "execute_result"
        },
        {
          "data": {
            "image/png": "[encoded data removed]",
            "text/plain": [
              "<Figure size 640x480 with 1 Axes>"
            ]
          },
          "metadata": {},
          "output_type": "display_data"
        }
      ],
      "source": [
        "p = df_prices['close'].values\n",
        "plt.plot(p)\n",
        "plt.ylabel('Price')\n",
        "plt.xlabel('Time')\n",
        "plt.title('TEF Close Price')"
      ]
    },
    {
      "cell_type": "markdown",
      "metadata": {
        "id": "vwLLTcTii-O7"
      },
      "source": [
        "## Question3"
      ]
    },
    {
      "cell_type": "code",
      "execution_count": null,
      "metadata": {
        "colab": {
          "base_uri": "https://localhost:8080/",
          "height": 423
        },
        "id": "HGtfeTN41tuR",
        "outputId": "318f7287-cef4-49aa-d0eb-34de0e2c0445"
      },
      "outputs": [
        {
          "data": {
            "text/html": [
              "<div>\n",
              "<style scoped>\n",
              "    .dataframe tbody tr th:only-of-type {\n",
              "        vertical-align: middle;\n",
              "    }\n",
              "\n",
              "    .dataframe tbody tr th {\n",
              "        vertical-align: top;\n",
              "    }\n",
              "\n",
              "    .dataframe thead th {\n",
              "        text-align: right;\n",
              "    }\n",
              "</style>\n",
              "<table border=\"1\" class=\"dataframe\">\n",
              "  <thead>\n",
              "    <tr style=\"text-align: right;\">\n",
              "      <th></th>\n",
              "      <th>investor_id</th>\n",
              "      <th>date</th>\n",
              "      <th>position</th>\n",
              "      <th>id_price</th>\n",
              "      <th>close</th>\n",
              "      <th>open</th>\n",
              "      <th>max</th>\n",
              "      <th>min</th>\n",
              "      <th>volume</th>\n",
              "      <th>adjusted_position</th>\n",
              "      <th>invested</th>\n",
              "    </tr>\n",
              "  </thead>\n",
              "  <tbody>\n",
              "    <tr>\n",
              "      <th>14</th>\n",
              "      <td>18350</td>\n",
              "      <td>2000-01-03</td>\n",
              "      <td>20000.0</td>\n",
              "      <td>1</td>\n",
              "      <td>22.01</td>\n",
              "      <td>22.76</td>\n",
              "      <td>23.05</td>\n",
              "      <td>21.83</td>\n",
              "      <td>15119907</td>\n",
              "      <td>20000.0</td>\n",
              "      <td>440200.00</td>\n",
              "    </tr>\n",
              "    <tr>\n",
              "      <th>21</th>\n",
              "      <td>18332</td>\n",
              "      <td>2000-01-03</td>\n",
              "      <td>-406.0</td>\n",
              "      <td>1</td>\n",
              "      <td>22.01</td>\n",
              "      <td>22.76</td>\n",
              "      <td>23.05</td>\n",
              "      <td>21.83</td>\n",
              "      <td>15119907</td>\n",
              "      <td>746.0</td>\n",
              "      <td>16419.46</td>\n",
              "    </tr>\n",
              "    <tr>\n",
              "      <th>23</th>\n",
              "      <td>18322</td>\n",
              "      <td>2000-01-03</td>\n",
              "      <td>120.0</td>\n",
              "      <td>1</td>\n",
              "      <td>22.01</td>\n",
              "      <td>22.76</td>\n",
              "      <td>23.05</td>\n",
              "      <td>21.83</td>\n",
              "      <td>15119907</td>\n",
              "      <td>120.0</td>\n",
              "      <td>2641.20</td>\n",
              "    </tr>\n",
              "    <tr>\n",
              "      <th>24</th>\n",
              "      <td>18321</td>\n",
              "      <td>2000-01-03</td>\n",
              "      <td>534.0</td>\n",
              "      <td>1</td>\n",
              "      <td>22.01</td>\n",
              "      <td>22.76</td>\n",
              "      <td>23.05</td>\n",
              "      <td>21.83</td>\n",
              "      <td>15119907</td>\n",
              "      <td>534.0</td>\n",
              "      <td>11753.34</td>\n",
              "    </tr>\n",
              "    <tr>\n",
              "      <th>25</th>\n",
              "      <td>18317</td>\n",
              "      <td>2000-01-03</td>\n",
              "      <td>-247.0</td>\n",
              "      <td>1</td>\n",
              "      <td>22.01</td>\n",
              "      <td>22.76</td>\n",
              "      <td>23.05</td>\n",
              "      <td>21.83</td>\n",
              "      <td>15119907</td>\n",
              "      <td>10067.0</td>\n",
              "      <td>221574.67</td>\n",
              "    </tr>\n",
              "    <tr>\n",
              "      <th>...</th>\n",
              "      <td>...</td>\n",
              "      <td>...</td>\n",
              "      <td>...</td>\n",
              "      <td>...</td>\n",
              "      <td>...</td>\n",
              "      <td>...</td>\n",
              "      <td>...</td>\n",
              "      <td>...</td>\n",
              "      <td>...</td>\n",
              "      <td>...</td>\n",
              "      <td>...</td>\n",
              "    </tr>\n",
              "    <tr>\n",
              "      <th>900398</th>\n",
              "      <td>2551</td>\n",
              "      <td>2007-10-16</td>\n",
              "      <td>600.0</td>\n",
              "      <td>1966</td>\n",
              "      <td>22.12</td>\n",
              "      <td>21.43</td>\n",
              "      <td>22.28</td>\n",
              "      <td>21.42</td>\n",
              "      <td>62472538</td>\n",
              "      <td>600.0</td>\n",
              "      <td>13272.00</td>\n",
              "    </tr>\n",
              "    <tr>\n",
              "      <th>900407</th>\n",
              "      <td>2343</td>\n",
              "      <td>2007-10-16</td>\n",
              "      <td>836.0</td>\n",
              "      <td>1966</td>\n",
              "      <td>22.12</td>\n",
              "      <td>21.43</td>\n",
              "      <td>22.28</td>\n",
              "      <td>21.42</td>\n",
              "      <td>62472538</td>\n",
              "      <td>836.0</td>\n",
              "      <td>18492.32</td>\n",
              "    </tr>\n",
              "    <tr>\n",
              "      <th>900416</th>\n",
              "      <td>2056</td>\n",
              "      <td>2007-10-16</td>\n",
              "      <td>676.0</td>\n",
              "      <td>1966</td>\n",
              "      <td>22.12</td>\n",
              "      <td>21.43</td>\n",
              "      <td>22.28</td>\n",
              "      <td>21.42</td>\n",
              "      <td>62472538</td>\n",
              "      <td>676.0</td>\n",
              "      <td>14953.12</td>\n",
              "    </tr>\n",
              "    <tr>\n",
              "      <th>900426</th>\n",
              "      <td>744</td>\n",
              "      <td>2007-10-16</td>\n",
              "      <td>10000.0</td>\n",
              "      <td>1966</td>\n",
              "      <td>22.12</td>\n",
              "      <td>21.43</td>\n",
              "      <td>22.28</td>\n",
              "      <td>21.42</td>\n",
              "      <td>62472538</td>\n",
              "      <td>10000.0</td>\n",
              "      <td>221200.00</td>\n",
              "    </tr>\n",
              "    <tr>\n",
              "      <th>900427</th>\n",
              "      <td>551</td>\n",
              "      <td>2007-10-16</td>\n",
              "      <td>2456.0</td>\n",
              "      <td>1966</td>\n",
              "      <td>22.12</td>\n",
              "      <td>21.43</td>\n",
              "      <td>22.28</td>\n",
              "      <td>21.42</td>\n",
              "      <td>62472538</td>\n",
              "      <td>2456.0</td>\n",
              "      <td>54326.72</td>\n",
              "    </tr>\n",
              "  </tbody>\n",
              "</table>\n",
              "<p>328876 rows × 11 columns</p>\n",
              "</div>"
            ],
            "text/plain": [
              "        investor_id        date  position  id_price  close   open    max  \\\n",
              "14            18350  2000-01-03   20000.0         1  22.01  22.76  23.05   \n",
              "21            18332  2000-01-03    -406.0         1  22.01  22.76  23.05   \n",
              "23            18322  2000-01-03     120.0         1  22.01  22.76  23.05   \n",
              "24            18321  2000-01-03     534.0         1  22.01  22.76  23.05   \n",
              "25            18317  2000-01-03    -247.0         1  22.01  22.76  23.05   \n",
              "...             ...         ...       ...       ...    ...    ...    ...   \n",
              "900398         2551  2007-10-16     600.0      1966  22.12  21.43  22.28   \n",
              "900407         2343  2007-10-16     836.0      1966  22.12  21.43  22.28   \n",
              "900416         2056  2007-10-16     676.0      1966  22.12  21.43  22.28   \n",
              "900426          744  2007-10-16   10000.0      1966  22.12  21.43  22.28   \n",
              "900427          551  2007-10-16    2456.0      1966  22.12  21.43  22.28   \n",
              "\n",
              "          min    volume  adjusted_position   invested  \n",
              "14      21.83  15119907            20000.0  440200.00  \n",
              "21      21.83  15119907              746.0   16419.46  \n",
              "23      21.83  15119907              120.0    2641.20  \n",
              "24      21.83  15119907              534.0   11753.34  \n",
              "25      21.83  15119907            10067.0  221574.67  \n",
              "...       ...       ...                ...        ...  \n",
              "900398  21.42  62472538              600.0   13272.00  \n",
              "900407  21.42  62472538              836.0   18492.32  \n",
              "900416  21.42  62472538              676.0   14953.12  \n",
              "900426  21.42  62472538            10000.0  221200.00  \n",
              "900427  21.42  62472538             2456.0   54326.72  \n",
              "\n",
              "[328876 rows x 11 columns]"
            ]
          },
          "execution_count": 6,
          "metadata": {},
          "output_type": "execute_result"
        }
      ],
      "source": [
        "df_complet = pd.merge(df_investors, df_prices, on=\"date\", how=\"outer\")\n",
        "df_complet = df_complet[df_complet['position'] != 0]\n",
        "df_complet['adjusted_position'] = df_complet.groupby('investor_id')['position'].transform(lambda x: x.min())\n",
        "df_complet['adjusted_position'] = df_complet.apply(lambda row: abs(row['adjusted_position']) + row['position'] if row['position'] < 0 else row['position'], axis=1)\n",
        "df_complet['invested'] = df_complet['adjusted_position']*df_complet['close']\n",
        "df_complet = df_complet[df_complet['adjusted_position'] != 0]\n",
        "\n",
        "df_complet"
      ]
    },
    {
      "cell_type": "code",
      "execution_count": null,
      "metadata": {
        "id": "XRw7x5m92MHH"
      },
      "outputs": [],
      "source": [
        "df_invested = df_complet.groupby(['investor_id']).sum()\n",
        "money= df_invested['invested']"
      ]
    },
    {
      "cell_type": "code",
      "execution_count": null,
      "metadata": {
        "colab": {
          "base_uri": "https://localhost:8080/"
        },
        "id": "QlodeW1k3JEp",
        "outputId": "5e5af0e5-e7ed-4d7a-9402-5ac1aa5cf262"
      },
      "outputs": [
        {
          "name": "stdout",
          "output_type": "stream",
          "text": [
            "Calculating best minimal value for power law fit\n",
            "xmin progress: 99%\r"
          ]
        }
      ],
      "source": [
        "import powerlaw as pl\n",
        "ft = pl.Fit(abs(money))"
      ]
    },
    {
      "cell_type": "code",
      "execution_count": null,
      "metadata": {
        "colab": {
          "base_uri": "https://localhost:8080/",
          "height": 459
        },
        "id": "C7CcdGnH3M5u",
        "outputId": "091ba7f3-7efb-4961-c96b-9c01e797ccbb"
      },
      "outputs": [
        {
          "data": {
            "image/png": "[encoded data removed]",
            "text/plain": [
              "<Figure size 640x480 with 1 Axes>"
            ]
          },
          "metadata": {},
          "output_type": "display_data"
        }
      ],
      "source": [
        "# CDF can be binless, it is not useful having a bin lower than the observations\n",
        "bn = sorted(set(abs(money)))\n",
        "\n",
        "\n",
        "plt.hist(abs(money),bins=bn,density=True,cumulative=-1,histtype='step')\n",
        "\n",
        "#Remember that the CDF has the esponent shifted by one\n",
        "dx,dy = compute_powerlaw_curve(ft.xmin, max(abs(money)), 1e-3,  ft.alpha-1)\n",
        "plt.plot(dx,dy,label='pl-expon')\n",
        "\n",
        "#The xmin,xmax,ymax are manually tuned to have a comprehensible plot. Try to change them\n",
        "#dx,dy = compute_powerlaw_curve(1e-2,max(abs(returns)),5,v-1)\n",
        "#plt.plot(dx,dy,label='t-expon')\n",
        "plt.yscale('log')\n",
        "plt.xscale('log')\n",
        "#plt.xlim(xmin=1e-3)\n",
        "plt.xlabel('The amount of money invested',fontsize=14)\n",
        "plt.ylabel('1-ECDF',fontsize=16)\n",
        "plt.legend(loc='best',fontsize=14)\n",
        "plt.grid()"
      ]
    },
    {
      "cell_type": "code",
      "execution_count": null,
      "metadata": {
        "colab": {
          "base_uri": "https://localhost:8080/"
        },
        "id": "vDuvIggt382j",
        "outputId": "902eda7c-91f0-46cb-e1d1-671126b11cec"
      },
      "outputs": [
        {
          "data": {
            "text/plain": [
              "1.5598132073695727"
            ]
          },
          "execution_count": 10,
          "metadata": {},
          "output_type": "execute_result"
        }
      ],
      "source": [
        "ft.alpha"
      ]
    },
    {
      "cell_type": "markdown",
      "metadata": {
        "id": "f-eB7eeO5Mm5"
      },
      "source": [
        "## Question 4"
      ]
    },
    {
      "cell_type": "code",
      "execution_count": null,
      "metadata": {
        "colab": {
          "base_uri": "https://localhost:8080/",
          "height": 423
        },
        "id": "Y6-lCeJI4R96",
        "outputId": "dedb12cc-c464-43eb-8150-2459c73a8cd5"
      },
      "outputs": [
        {
          "data": {
            "text/html": [
              "<div>\n",
              "<style scoped>\n",
              "    .dataframe tbody tr th:only-of-type {\n",
              "        vertical-align: middle;\n",
              "    }\n",
              "\n",
              "    .dataframe tbody tr th {\n",
              "        vertical-align: top;\n",
              "    }\n",
              "\n",
              "    .dataframe thead th {\n",
              "        text-align: right;\n",
              "    }\n",
              "</style>\n",
              "<table border=\"1\" class=\"dataframe\">\n",
              "  <thead>\n",
              "    <tr style=\"text-align: right;\">\n",
              "      <th></th>\n",
              "      <th>investor_id</th>\n",
              "      <th>date</th>\n",
              "      <th>position</th>\n",
              "      <th>positive_position_count</th>\n",
              "    </tr>\n",
              "  </thead>\n",
              "  <tbody>\n",
              "    <tr>\n",
              "      <th>182</th>\n",
              "      <td>18433</td>\n",
              "      <td>2000-09-19</td>\n",
              "      <td>2000.0</td>\n",
              "      <td>1223</td>\n",
              "    </tr>\n",
              "    <tr>\n",
              "      <th>183</th>\n",
              "      <td>18433</td>\n",
              "      <td>2000-09-20</td>\n",
              "      <td>3000.0</td>\n",
              "      <td>1223</td>\n",
              "    </tr>\n",
              "    <tr>\n",
              "      <th>184</th>\n",
              "      <td>18433</td>\n",
              "      <td>2000-09-21</td>\n",
              "      <td>3000.0</td>\n",
              "      <td>1223</td>\n",
              "    </tr>\n",
              "    <tr>\n",
              "      <th>185</th>\n",
              "      <td>18433</td>\n",
              "      <td>2000-09-22</td>\n",
              "      <td>3000.0</td>\n",
              "      <td>1223</td>\n",
              "    </tr>\n",
              "    <tr>\n",
              "      <th>186</th>\n",
              "      <td>18433</td>\n",
              "      <td>2000-09-25</td>\n",
              "      <td>3000.0</td>\n",
              "      <td>1223</td>\n",
              "    </tr>\n",
              "    <tr>\n",
              "      <th>...</th>\n",
              "      <td>...</td>\n",
              "      <td>...</td>\n",
              "      <td>...</td>\n",
              "      <td>...</td>\n",
              "    </tr>\n",
              "    <tr>\n",
              "      <th>900423</th>\n",
              "      <td>551</td>\n",
              "      <td>2007-10-10</td>\n",
              "      <td>2456.0</td>\n",
              "      <td>993</td>\n",
              "    </tr>\n",
              "    <tr>\n",
              "      <th>900424</th>\n",
              "      <td>551</td>\n",
              "      <td>2007-10-11</td>\n",
              "      <td>2456.0</td>\n",
              "      <td>993</td>\n",
              "    </tr>\n",
              "    <tr>\n",
              "      <th>900425</th>\n",
              "      <td>551</td>\n",
              "      <td>2007-10-12</td>\n",
              "      <td>2456.0</td>\n",
              "      <td>993</td>\n",
              "    </tr>\n",
              "    <tr>\n",
              "      <th>900426</th>\n",
              "      <td>551</td>\n",
              "      <td>2007-10-15</td>\n",
              "      <td>2456.0</td>\n",
              "      <td>993</td>\n",
              "    </tr>\n",
              "    <tr>\n",
              "      <th>900427</th>\n",
              "      <td>551</td>\n",
              "      <td>2007-10-16</td>\n",
              "      <td>2456.0</td>\n",
              "      <td>993</td>\n",
              "    </tr>\n",
              "  </tbody>\n",
              "</table>\n",
              "<p>289103 rows × 4 columns</p>\n",
              "</div>"
            ],
            "text/plain": [
              "        investor_id        date  position  positive_position_count\n",
              "182           18433  2000-09-19    2000.0                     1223\n",
              "183           18433  2000-09-20    3000.0                     1223\n",
              "184           18433  2000-09-21    3000.0                     1223\n",
              "185           18433  2000-09-22    3000.0                     1223\n",
              "186           18433  2000-09-25    3000.0                     1223\n",
              "...             ...         ...       ...                      ...\n",
              "900423          551  2007-10-10    2456.0                      993\n",
              "900424          551  2007-10-11    2456.0                      993\n",
              "900425          551  2007-10-12    2456.0                      993\n",
              "900426          551  2007-10-15    2456.0                      993\n",
              "900427          551  2007-10-16    2456.0                      993\n",
              "\n",
              "[289103 rows x 4 columns]"
            ]
          },
          "execution_count": 11,
          "metadata": {},
          "output_type": "execute_result"
        }
      ],
      "source": [
        "import pandas as pd\n",
        "\n",
        "# Reading the CSV files\n",
        "df_investors = pd.read_csv('TEF_Investors.csv')\n",
        "\n",
        "# Filter out the rows where the position is positive\n",
        "df_investors = df_investors[df_investors['position'] > 0]\n",
        "\n",
        "# Group by investor_id and count the number of positive positions\n",
        "positive_position_counts = df_investors.groupby('investor_id').size()\n",
        "\n",
        "# Assign the result to a new column in the original DataFrame\n",
        "df_investors['positive_position_count'] = df_investors['investor_id'].map(positive_position_counts)\n",
        "\n",
        "# Print the DataFrame with the positive position counts\n",
        "df_investors\n",
        "\n"
      ]
    },
    {
      "cell_type": "code",
      "execution_count": null,
      "metadata": {
        "colab": {
          "base_uri": "https://localhost:8080/"
        },
        "id": "hoUlsp1z4WH4",
        "outputId": "f4d1a29a-d9e2-4230-8695-659e7b83c8c4"
      },
      "outputs": [
        {
          "name": "stdout",
          "output_type": "stream",
          "text": [
            "Calculating best minimal value for power law fit\n",
            "xmin progress: 99%\r"
          ]
        }
      ],
      "source": [
        "changed_pos =positive_position_counts.values\n",
        "import powerlaw as pl\n",
        "changed_pos=changed_pos[changed_pos!=0]\n",
        "ft2 = pl.Fit(abs(changed_pos))"
      ]
    },
    {
      "cell_type": "code",
      "execution_count": null,
      "metadata": {
        "colab": {
          "base_uri": "https://localhost:8080/"
        },
        "id": "iBuIvjWI4b1t",
        "outputId": "ce3187bd-99a5-48f7-862a-b2d40f565b08"
      },
      "outputs": [
        {
          "data": {
            "text/plain": [
              "2.362306836905565"
            ]
          },
          "execution_count": 13,
          "metadata": {},
          "output_type": "execute_result"
        }
      ],
      "source": [
        "ft2.alpha"
      ]
    },
    {
      "cell_type": "code",
      "execution_count": null,
      "metadata": {
        "colab": {
          "base_uri": "https://localhost:8080/",
          "height": 459
        },
        "id": "ccB2qP6o4e61",
        "outputId": "7ba481bb-9687-4e60-8d48-cb4ca9a0fa03"
      },
      "outputs": [
        {
          "data": {
            "image/png": "[encoded data removed]",
            "text/plain": [
              "<Figure size 640x480 with 1 Axes>"
            ]
          },
          "metadata": {},
          "output_type": "display_data"
        }
      ],
      "source": [
        "bn = sorted(set(abs(changed_pos)))\n",
        "\n",
        "\n",
        "plt.hist(abs(changed_pos),bins=bn,density=True,cumulative=-1,histtype='step')\n",
        "\n",
        "#Remember that the CDF has the esponent shifted by one\n",
        "dx,dy = compute_powerlaw_curve(ft2.xmin, max(abs(changed_pos)), 1e-3,  ft2.alpha-1)\n",
        "plt.plot(dx,dy,label='pl-expon')\n",
        "\n",
        "\n",
        "plt.yscale('log')\n",
        "plt.xscale('log')\n",
        "#plt.xlim(xmin=1e-3)\n",
        "plt.xlabel('The total number of changes of invested volume',fontsize=14)\n",
        "plt.ylabel('1-ECDF',fontsize=16)\n",
        "plt.legend(loc='best',fontsize=14)\n",
        "plt.grid()"
      ]
    },
    {
      "cell_type": "markdown",
      "metadata": {
        "id": "ibabBUlm5SXQ"
      },
      "source": [
        "# The influence of past price returns"
      ]
    },
    {
      "cell_type": "markdown",
      "metadata": {
        "id": "q1bjfhAH5etz"
      },
      "source": [
        "## Question 1"
      ]
    },
    {
      "cell_type": "code",
      "execution_count": null,
      "metadata": {
        "id": "hkAewE9ROuk9"
      },
      "outputs": [],
      "source": [
        "investors = pd.read_csv('TEF_Investors.csv')\n",
        "prices = pd.read_csv('TEF_Prices.csv')\n",
        "prices = pd.read_csv('TEF_Prices.csv', index_col='date')\n",
        "retours = prices['close']\n",
        "retours = retours.diff().iloc[1:]"
      ]
    },
    {
      "cell_type": "code",
      "execution_count": null,
      "metadata": {
        "colab": {
          "base_uri": "https://localhost:8080/",
          "height": 423
        },
        "id": "WyOPNgTv5x_I",
        "outputId": "0c4a7953-3905-45c0-ef05-c0e4b109edce"
      },
      "outputs": [
        {
          "data": {
            "text/html": [
              "<div>\n",
              "<style scoped>\n",
              "    .dataframe tbody tr th:only-of-type {\n",
              "        vertical-align: middle;\n",
              "    }\n",
              "\n",
              "    .dataframe tbody tr th {\n",
              "        vertical-align: top;\n",
              "    }\n",
              "\n",
              "    .dataframe thead th {\n",
              "        text-align: right;\n",
              "    }\n",
              "</style>\n",
              "<table border=\"1\" class=\"dataframe\">\n",
              "  <thead>\n",
              "    <tr style=\"text-align: right;\">\n",
              "      <th></th>\n",
              "      <th>investor_id</th>\n",
              "      <th>date</th>\n",
              "      <th>position</th>\n",
              "      <th>close</th>\n",
              "    </tr>\n",
              "  </thead>\n",
              "  <tbody>\n",
              "    <tr>\n",
              "      <th>458</th>\n",
              "      <td>18433</td>\n",
              "      <td>2000-01-04</td>\n",
              "      <td>0.0</td>\n",
              "      <td>-0.91</td>\n",
              "    </tr>\n",
              "    <tr>\n",
              "      <th>459</th>\n",
              "      <td>18428</td>\n",
              "      <td>2000-01-04</td>\n",
              "      <td>0.0</td>\n",
              "      <td>-0.91</td>\n",
              "    </tr>\n",
              "    <tr>\n",
              "      <th>460</th>\n",
              "      <td>18427</td>\n",
              "      <td>2000-01-04</td>\n",
              "      <td>0.0</td>\n",
              "      <td>-0.91</td>\n",
              "    </tr>\n",
              "    <tr>\n",
              "      <th>461</th>\n",
              "      <td>18425</td>\n",
              "      <td>2000-01-04</td>\n",
              "      <td>0.0</td>\n",
              "      <td>-0.91</td>\n",
              "    </tr>\n",
              "    <tr>\n",
              "      <th>462</th>\n",
              "      <td>18417</td>\n",
              "      <td>2000-01-04</td>\n",
              "      <td>0.0</td>\n",
              "      <td>-0.91</td>\n",
              "    </tr>\n",
              "    <tr>\n",
              "      <th>...</th>\n",
              "      <td>...</td>\n",
              "      <td>...</td>\n",
              "      <td>...</td>\n",
              "      <td>...</td>\n",
              "    </tr>\n",
              "    <tr>\n",
              "      <th>900423</th>\n",
              "      <td>1309</td>\n",
              "      <td>2007-10-16</td>\n",
              "      <td>0.0</td>\n",
              "      <td>0.61</td>\n",
              "    </tr>\n",
              "    <tr>\n",
              "      <th>900424</th>\n",
              "      <td>1041</td>\n",
              "      <td>2007-10-16</td>\n",
              "      <td>0.0</td>\n",
              "      <td>0.61</td>\n",
              "    </tr>\n",
              "    <tr>\n",
              "      <th>900425</th>\n",
              "      <td>886</td>\n",
              "      <td>2007-10-16</td>\n",
              "      <td>-455120.0</td>\n",
              "      <td>0.61</td>\n",
              "    </tr>\n",
              "    <tr>\n",
              "      <th>900426</th>\n",
              "      <td>744</td>\n",
              "      <td>2007-10-16</td>\n",
              "      <td>10000.0</td>\n",
              "      <td>0.61</td>\n",
              "    </tr>\n",
              "    <tr>\n",
              "      <th>900427</th>\n",
              "      <td>551</td>\n",
              "      <td>2007-10-16</td>\n",
              "      <td>2456.0</td>\n",
              "      <td>0.61</td>\n",
              "    </tr>\n",
              "  </tbody>\n",
              "</table>\n",
              "<p>899970 rows × 4 columns</p>\n",
              "</div>"
            ],
            "text/plain": [
              "        investor_id        date  position  close\n",
              "458           18433  2000-01-04       0.0  -0.91\n",
              "459           18428  2000-01-04       0.0  -0.91\n",
              "460           18427  2000-01-04       0.0  -0.91\n",
              "461           18425  2000-01-04       0.0  -0.91\n",
              "462           18417  2000-01-04       0.0  -0.91\n",
              "...             ...         ...       ...    ...\n",
              "900423         1309  2007-10-16       0.0   0.61\n",
              "900424         1041  2007-10-16       0.0   0.61\n",
              "900425          886  2007-10-16 -455120.0   0.61\n",
              "900426          744  2007-10-16   10000.0   0.61\n",
              "900427          551  2007-10-16    2456.0   0.61\n",
              "\n",
              "[899970 rows x 4 columns]"
            ]
          },
          "execution_count": 17,
          "metadata": {},
          "output_type": "execute_result"
        }
      ],
      "source": [
        "df_comp = pd.merge(investors, retours, on=\"date\", how=\"outer\")\n",
        "df_comp = df_comp.dropna()\n",
        "df_comp"
      ]
    },
    {
      "cell_type": "code",
      "execution_count": null,
      "metadata": {
        "colab": {
          "base_uri": "https://localhost:8080/",
          "height": 455
        },
        "id": "1CMA7adXAwUi",
        "outputId": "14d49649-b625-4758-c858-de44e5eece8d"
      },
      "outputs": [
        {
          "data": {
            "text/html": [
              "<div>\n",
              "<style scoped>\n",
              "    .dataframe tbody tr th:only-of-type {\n",
              "        vertical-align: middle;\n",
              "    }\n",
              "\n",
              "    .dataframe tbody tr th {\n",
              "        vertical-align: top;\n",
              "    }\n",
              "\n",
              "    .dataframe thead th {\n",
              "        text-align: right;\n",
              "    }\n",
              "</style>\n",
              "<table border=\"1\" class=\"dataframe\">\n",
              "  <thead>\n",
              "    <tr style=\"text-align: right;\">\n",
              "      <th></th>\n",
              "      <th>position</th>\n",
              "      <th>sig_av</th>\n",
              "      <th>sig</th>\n",
              "    </tr>\n",
              "    <tr>\n",
              "      <th>investor_id</th>\n",
              "      <th></th>\n",
              "      <th></th>\n",
              "      <th></th>\n",
              "    </tr>\n",
              "  </thead>\n",
              "  <tbody>\n",
              "    <tr>\n",
              "      <th>551</th>\n",
              "      <td>993</td>\n",
              "      <td>0.031782</td>\n",
              "      <td>0.062212</td>\n",
              "    </tr>\n",
              "    <tr>\n",
              "      <th>744</th>\n",
              "      <td>1236</td>\n",
              "      <td>0.028479</td>\n",
              "      <td>0.055760</td>\n",
              "    </tr>\n",
              "    <tr>\n",
              "      <th>886</th>\n",
              "      <td>1965</td>\n",
              "      <td>0.022576</td>\n",
              "      <td>0.044220</td>\n",
              "    </tr>\n",
              "    <tr>\n",
              "      <th>1041</th>\n",
              "      <td>888</td>\n",
              "      <td>0.033615</td>\n",
              "      <td>0.065790</td>\n",
              "    </tr>\n",
              "    <tr>\n",
              "      <th>1309</th>\n",
              "      <td>117</td>\n",
              "      <td>0.093659</td>\n",
              "      <td>0.181536</td>\n",
              "    </tr>\n",
              "    <tr>\n",
              "      <th>...</th>\n",
              "      <td>...</td>\n",
              "      <td>...</td>\n",
              "      <td>...</td>\n",
              "    </tr>\n",
              "    <tr>\n",
              "      <th>18417</th>\n",
              "      <td>1920</td>\n",
              "      <td>0.022840</td>\n",
              "      <td>0.044736</td>\n",
              "    </tr>\n",
              "    <tr>\n",
              "      <th>18425</th>\n",
              "      <td>1957</td>\n",
              "      <td>0.022622</td>\n",
              "      <td>0.044311</td>\n",
              "    </tr>\n",
              "    <tr>\n",
              "      <th>18427</th>\n",
              "      <td>1940</td>\n",
              "      <td>0.022721</td>\n",
              "      <td>0.044505</td>\n",
              "    </tr>\n",
              "    <tr>\n",
              "      <th>18428</th>\n",
              "      <td>1940</td>\n",
              "      <td>0.022721</td>\n",
              "      <td>0.044505</td>\n",
              "    </tr>\n",
              "    <tr>\n",
              "      <th>18433</th>\n",
              "      <td>1784</td>\n",
              "      <td>0.023696</td>\n",
              "      <td>0.046410</td>\n",
              "    </tr>\n",
              "  </tbody>\n",
              "</table>\n",
              "<p>424 rows × 3 columns</p>\n",
              "</div>"
            ],
            "text/plain": [
              "             position    sig_av       sig\n",
              "investor_id                              \n",
              "551               993  0.031782  0.062212\n",
              "744              1236  0.028479  0.055760\n",
              "886              1965  0.022576  0.044220\n",
              "1041              888  0.033615  0.065790\n",
              "1309              117  0.093659  0.181536\n",
              "...               ...       ...       ...\n",
              "18417            1920  0.022840  0.044736\n",
              "18425            1957  0.022622  0.044311\n",
              "18427            1940  0.022721  0.044505\n",
              "18428            1940  0.022721  0.044505\n",
              "18433            1784  0.023696  0.046410\n",
              "\n",
              "[424 rows x 3 columns]"
            ]
          },
          "execution_count": 18,
          "metadata": {},
          "output_type": "execute_result"
        }
      ],
      "source": [
        "df_sigma = df_comp[['investor_id', 'position']]\n",
        "df_sigma = df_sigma[df_sigma['position']!= 0]\n",
        "df_sigma = df_sigma.groupby(['investor_id']).count()\n",
        "df_sigma\n",
        "df_sigma = df_sigma[df_sigma['position']> 20]\n",
        "df_sigma['sig_av'] = (df_sigma['position']-3)**(-1/2)\n",
        "df_sigma['sig'] = np.tanh(1.96*df_sigma['sig_av'])\n",
        "\n",
        "df_sigma"
      ]
    },
    {
      "cell_type": "code",
      "execution_count": null,
      "metadata": {
        "colab": {
          "base_uri": "https://localhost:8080/",
          "height": 455
        },
        "id": "9C_gGAki5987",
        "outputId": "177a87dd-132a-4026-e938-f211978cc9ae"
      },
      "outputs": [
        {
          "data": {
            "text/html": [
              "<div>\n",
              "<style scoped>\n",
              "    .dataframe tbody tr th:only-of-type {\n",
              "        vertical-align: middle;\n",
              "    }\n",
              "\n",
              "    .dataframe tbody tr th {\n",
              "        vertical-align: top;\n",
              "    }\n",
              "\n",
              "    .dataframe thead th {\n",
              "        text-align: right;\n",
              "    }\n",
              "</style>\n",
              "<table border=\"1\" class=\"dataframe\">\n",
              "  <thead>\n",
              "    <tr style=\"text-align: right;\">\n",
              "      <th></th>\n",
              "      <th></th>\n",
              "      <th>position</th>\n",
              "      <th>close</th>\n",
              "    </tr>\n",
              "    <tr>\n",
              "      <th>investor_id</th>\n",
              "      <th></th>\n",
              "      <th></th>\n",
              "      <th></th>\n",
              "    </tr>\n",
              "  </thead>\n",
              "  <tbody>\n",
              "    <tr>\n",
              "      <th rowspan=\"2\" valign=\"top\">551</th>\n",
              "      <th>position</th>\n",
              "      <td>1.000000</td>\n",
              "      <td>-0.005803</td>\n",
              "    </tr>\n",
              "    <tr>\n",
              "      <th>close</th>\n",
              "      <td>-0.005803</td>\n",
              "      <td>1.000000</td>\n",
              "    </tr>\n",
              "    <tr>\n",
              "      <th rowspan=\"2\" valign=\"top\">744</th>\n",
              "      <th>position</th>\n",
              "      <td>1.000000</td>\n",
              "      <td>0.046636</td>\n",
              "    </tr>\n",
              "    <tr>\n",
              "      <th>close</th>\n",
              "      <td>0.046636</td>\n",
              "      <td>1.000000</td>\n",
              "    </tr>\n",
              "    <tr>\n",
              "      <th>886</th>\n",
              "      <th>position</th>\n",
              "      <td>1.000000</td>\n",
              "      <td>-0.064155</td>\n",
              "    </tr>\n",
              "    <tr>\n",
              "      <th>...</th>\n",
              "      <th>...</th>\n",
              "      <td>...</td>\n",
              "      <td>...</td>\n",
              "    </tr>\n",
              "    <tr>\n",
              "      <th>18427</th>\n",
              "      <th>close</th>\n",
              "      <td>-0.047299</td>\n",
              "      <td>1.000000</td>\n",
              "    </tr>\n",
              "    <tr>\n",
              "      <th rowspan=\"2\" valign=\"top\">18428</th>\n",
              "      <th>position</th>\n",
              "      <td>1.000000</td>\n",
              "      <td>-0.031355</td>\n",
              "    </tr>\n",
              "    <tr>\n",
              "      <th>close</th>\n",
              "      <td>-0.031355</td>\n",
              "      <td>1.000000</td>\n",
              "    </tr>\n",
              "    <tr>\n",
              "      <th rowspan=\"2\" valign=\"top\">18433</th>\n",
              "      <th>position</th>\n",
              "      <td>1.000000</td>\n",
              "      <td>-0.022339</td>\n",
              "    </tr>\n",
              "    <tr>\n",
              "      <th>close</th>\n",
              "      <td>-0.022339</td>\n",
              "      <td>1.000000</td>\n",
              "    </tr>\n",
              "  </tbody>\n",
              "</table>\n",
              "<p>904 rows × 2 columns</p>\n",
              "</div>"
            ],
            "text/plain": [
              "                      position     close\n",
              "investor_id                             \n",
              "551         position  1.000000 -0.005803\n",
              "            close    -0.005803  1.000000\n",
              "744         position  1.000000  0.046636\n",
              "            close     0.046636  1.000000\n",
              "886         position  1.000000 -0.064155\n",
              "...                        ...       ...\n",
              "18427       close    -0.047299  1.000000\n",
              "18428       position  1.000000 -0.031355\n",
              "            close    -0.031355  1.000000\n",
              "18433       position  1.000000 -0.022339\n",
              "            close    -0.022339  1.000000\n",
              "\n",
              "[904 rows x 2 columns]"
            ]
          },
          "execution_count": 19,
          "metadata": {},
          "output_type": "execute_result"
        }
      ],
      "source": [
        "df_corr = df_comp[['investor_id', 'position', 'close']]\n",
        "df_corr = df_corr.loc[df_corr['position'] != 0]\n",
        "df_corr = df_corr.groupby(['investor_id']).corr()\n",
        "df_corr"
      ]
    },
    {
      "cell_type": "code",
      "execution_count": null,
      "metadata": {
        "id": "MGwfds0XN1V5"
      },
      "outputs": [],
      "source": [
        "df1 = df_corr.loc[(slice(None), 'close'),'position']\n",
        "\n",
        "df1 = df1.groupby('investor_id').sum()\n",
        "df1 = df1.reset_index()\n",
        "\n",
        "\n",
        "df_type=pd.merge(df1, df_sigma, on=\"investor_id\", how=\"outer\")\n",
        "\n",
        "df_type.rename(columns={'position_x': 'corr'}, inplace=True)\n",
        "df_type.rename(columns={'position_y': 'position'}, inplace=True)\n",
        "df_type\n",
        "def get_type(row):\n",
        "    if row['corr'] > row['sig']:\n",
        "        return 'trend'\n",
        "    elif row['corr'] < -row['sig']:\n",
        "        return 'contrarian'\n",
        "    else:\n",
        "        return 'neutre'\n",
        "df_type['type'] = df_type.apply(lambda row: get_type(row), axis=1)\n",
        "df_type = df_type.dropna()"
      ]
    },
    {
      "cell_type": "code",
      "execution_count": null,
      "metadata": {
        "colab": {
          "base_uri": "https://localhost:8080/",
          "height": 449
        },
        "id": "NTYegi0z6wbW",
        "outputId": "011fccae-d297-4517-c278-b7474231dc40"
      },
      "outputs": [
        {
          "data": {
            "image/png": "[encoded data removed]",
            "text/plain": [
              "<Figure size 640x480 with 1 Axes>"
            ]
          },
          "metadata": {},
          "output_type": "display_data"
        }
      ],
      "source": [
        "colors = ['red' if c == 'contrarian' else 'blue' if c=='trend' else 'green' for c in df_type['type']]\n",
        "\n",
        "# Assign colors based on correlation values\n",
        "\n",
        "ax = df_type.plot(kind='scatter', x='investor_id', y='corr', c=colors)\n",
        "\n",
        "# Set x-label and y-label\n",
        "ax.set_xlabel('Investor ID')\n",
        "ax.set_ylabel('Correlation')\n",
        "\n",
        "# Create legend\n",
        "legend_labels = ['Contrarian', 'Neutral', 'Trend following']\n",
        "legend_colors = ['red', 'green','blue']  # Colors for the legend\n",
        "\n",
        "# Plot invisible points for the legend\n",
        "for color, label in zip(legend_colors, legend_labels):\n",
        "    ax.scatter([], [], c=color, label=label)\n",
        "\n",
        "# Display legend\n",
        "ax.legend()\n",
        "\n",
        "plt.show()\n"
      ]
    },
    {
      "cell_type": "code",
      "execution_count": null,
      "metadata": {
        "colab": {
          "base_uri": "https://localhost:8080/"
        },
        "id": "_NvpLoJNN-UV",
        "outputId": "1ce466b2-bf60-4ba6-8c09-630df078ad2f"
      },
      "outputs": [
        {
          "name": "stdout",
          "output_type": "stream",
          "text": [
            "Neutre : 359\n",
            "Trend : 20\n",
            "Contrarian : 73\n"
          ]
        }
      ],
      "source": [
        "counts = df_type['type'].value_counts()\n",
        "# Accéder aux valeurs individuelles\n",
        "neutre_count = counts['neutre']\n",
        "trend_count = counts['trend']\n",
        "contrarian_count = counts['contrarian']\n",
        "\n",
        "# Afficher les résultats\n",
        "print(\"Neutre :\", neutre_count)\n",
        "print(\"Trend :\", trend_count)\n",
        "print(\"Contrarian :\", contrarian_count)"
      ]
    },
    {
      "cell_type": "code",
      "execution_count": null,
      "metadata": {
        "id": "I6VwcL6ht2Zy"
      },
      "outputs": [],
      "source": [
        "df1 = df_corr.loc[(slice(None), 'close'),:]\n",
        "df1 = df1['position']"
      ]
    },
    {
      "cell_type": "markdown",
      "metadata": {
        "id": "dKsSVmnIAFfx"
      },
      "source": [
        "## Question 2"
      ]
    },
    {
      "cell_type": "code",
      "execution_count": null,
      "metadata": {
        "id": "bgDLyHbV_4_G"
      },
      "outputs": [],
      "source": [
        "date_split = '2004-01-01'\n",
        "\n",
        "df_comp['date'] = pd.to_datetime(df_comp['date'])\n",
        "\n",
        "df1,df2 = df_comp.loc[df_comp['date'] < date_split],df_comp.loc[df_comp['date'] >= date_split]\n",
        "\n",
        "\n",
        "df_corr1 ,df_corr2 = df1[['investor_id', 'position', 'close']],df2[['investor_id', 'position', 'close']]\n",
        "\n",
        "df_corr1,df_corr2  = df_corr1.loc[df_corr1['position'] != 0] ,df_corr2.loc[df_corr2['position'] != 0]\n",
        "df_corr1 ,df_corr2 = df_corr1.groupby(['investor_id']).corr(),df_corr2.groupby(['investor_id']).corr()\n",
        "\n",
        "df_c1 = df_corr1.loc[(slice(None), 'close'),:]['position']\n",
        "df_c2 = df_corr2.loc[(slice(None), 'close'),:]['position']\n",
        "\n",
        "\n",
        "df = pd.merge(df_c1, df_c2, on=\"investor_id\", how=\"outer\")\n",
        "df = df.fillna(0)\n",
        "df_sigma\n",
        "df=pd.merge(df,df_sigma,on=\"investor_id\", how=\"outer\")\n",
        "df = df.rename(columns = {'position_x' : 'before', 'position_y' : 'after'})"
      ]
    },
    {
      "cell_type": "code",
      "execution_count": null,
      "metadata": {
        "colab": {
          "base_uri": "https://localhost:8080/"
        },
        "id": "VIa3qOyCAP_k",
        "outputId": "253274bb-9e07-42bd-fd8a-73ecae552334"
      },
      "outputs": [
        {
          "data": {
            "text/plain": [
              "strat\n",
              "c-c    0.024336\n",
              "c-n    0.159292\n",
              "c-t    0.006637\n",
              "n-c    0.103982\n",
              "n-n    0.630531\n",
              "n-t    0.042035\n",
              "t-c    0.002212\n",
              "t-n    0.026549\n",
              "t-t    0.004425\n",
              "Name: strat, dtype: float64"
            ]
          },
          "execution_count": 23,
          "metadata": {},
          "output_type": "execute_result"
        }
      ],
      "source": [
        "def type(x) :\n",
        "    if (x['before'] < -x['sig']) and (x['after'] >= -x['sig'] ) and (x['after']<= x['sig']):\n",
        "        return 'c-n'\n",
        "    elif (x['before'] < -x['sig']) and (x['after'] > x['sig']) :\n",
        "        return 'c-t'\n",
        "    elif (x['before'] >= -x['sig'] ) and (x['before']<= x['sig']) and (x['after'] < -x['sig']) :\n",
        "        return 'n-c'\n",
        "    elif (x['before'] >= -x['sig'] ) and (x['before']<= x['sig']) and (x['after'] > x['sig']) :\n",
        "        return 'n-t'\n",
        "    elif (x['before'] > x['sig']) and (x['after'] >= -x['sig'] ) and (x['after']<= x['sig']) :\n",
        "        return 't-n'\n",
        "    elif (x['before'] > x['sig']) and (x['after'] < -x['sig']) :\n",
        "        return 't-c'\n",
        "    elif (x['before'] > x['sig']) and (x['after'] > x['sig']) :\n",
        "        return 't-t'\n",
        "    elif (x['before'] < -x['sig']) and (x['after'] < -x['sig']) :\n",
        "        return 'c-c'\n",
        "    else :\n",
        "        return 'n-n'\n",
        "\n",
        "table_transi = df.assign(strat=df.apply(type, axis=1))\n",
        "table_transi = table_transi.groupby(['strat'])['strat'].count()\n",
        "table_transi.div(table_transi.sum())"
      ]
    },
    {
      "cell_type": "code",
      "execution_count": null,
      "metadata": {
        "colab": {
          "base_uri": "https://localhost:8080/",
          "height": 449
        },
        "id": "9I9qL0oHIPOp",
        "outputId": "4eaa22c9-34d7-4524-bc5d-4dded1918d91"
      },
      "outputs": [
        {
          "data": {
            "image/png": "[encoded data removed]",
            "text/plain": [
              "<Figure size 640x480 with 1 Axes>"
            ]
          },
          "metadata": {},
          "output_type": "display_data"
        }
      ],
      "source": [
        "import matplotlib.pyplot as plt\n",
        "\n",
        "categories = ['c-c', 'c-n', 'c-t', 'n-c', 'n-n', 'n-t', 't-c', 't-n', 't-t']\n",
        "values = [0.024336, 0.161504, 0.006637, 0.103982, 0.626106, 0.044248, 0.002212, 0.026549, 0.004425]\n",
        "\n",
        "plt.bar(categories, values, color='green')\n",
        "\n",
        "plt.xlabel('Transition')\n",
        "plt.ylabel('Probability')\n",
        "#plt.title('Translation of Values')\n",
        "\n",
        "plt.show()\n"
      ]
    },
    {
      "cell_type": "markdown",
      "metadata": {
        "id": "NObERKMki-PA"
      },
      "source": [
        "## Question 3"
      ]
    },
    {
      "cell_type": "code",
      "execution_count": null,
      "metadata": {
        "colab": {
          "base_uri": "https://localhost:8080/",
          "height": 501
        },
        "id": "CU_W8fNAQeTP",
        "outputId": "ce27ec9f-c981-4489-e794-5a98776f3a48"
      },
      "outputs": [
        {
          "data": {
            "image/png": "[encoded data removed]",
            "text/plain": [
              "<Figure size 640x480 with 1 Axes>"
            ]
          },
          "metadata": {},
          "output_type": "display_data"
        },
        {
          "name": "stdout",
          "output_type": "stream",
          "text": [
            "Neutre : 342\n",
            "Trend : 17\n",
            "Contrarian : 65\n"
          ]
        }
      ],
      "source": [
        "retours1 = retours.copy()\n",
        "retours1 = retours1.shift(1)[1:]\n",
        "\n",
        "\n",
        "df_comp1 = pd.merge(investors, retours1, on=\"date\", how=\"outer\").dropna()\n",
        "\n",
        "\n",
        "df_corr1 =df_comp1[['investor_id', 'position', 'close']]\n",
        "df_corr1=df_corr1.loc[df_corr1['position'] != 0]\n",
        "df_corr1 = df_corr1.groupby(['investor_id']).corr()\n",
        "df1 = df_corr1.loc[(slice(None), 'close'),'position']\n",
        "\n",
        "df1 = df1.groupby('investor_id').sum()\n",
        "df1 = df1.reset_index()\n",
        "\n",
        "df_sigma = df_comp1[['investor_id', 'position']]\n",
        "df_sigma = df_sigma[df_sigma['position']!= 0]\n",
        "df_sigma = df_sigma.groupby(['investor_id']).count()\n",
        "df_sigma\n",
        "df_sigma = df_sigma[df_sigma['position']> 20]\n",
        "df_sigma['sig_av'] = (df_sigma['position']-3)**(-1/2)\n",
        "df_sigma['sig'] = np.tanh(1.96*df_sigma['sig_av'])\n",
        "\n",
        "df_sigma\n",
        "df_type=pd.merge(df1, df_sigma, on=\"investor_id\", how=\"outer\")\n",
        "\n",
        "df_type.rename(columns={'position_x': 'corr'}, inplace=True)\n",
        "df_type.rename(columns={'position_y': 'position'}, inplace=True)\n",
        "df_type = df_type.dropna()\n",
        "def get_type(row):\n",
        "    if row['corr'] > row['sig']:\n",
        "        return 'trend'\n",
        "    elif row['corr'] < -row['sig']:\n",
        "        return 'contrarian'\n",
        "    else:\n",
        "        return 'neutre'\n",
        "df_type['type'] = df_type.apply(lambda row: get_type(row), axis=1)\n",
        "df_type\n",
        "counts = df_type['type'].value_counts()\n",
        "# Accéder aux valeurs individuelles\n",
        "neutre_count = counts['neutre']\n",
        "trend_count = counts['trend']\n",
        "contrarian_count = counts['contrarian']\n",
        "\n",
        "colors = ['red' if c == 'contrarian' else 'blue' if c=='trend' else 'green' for c in df_type['type']]\n",
        "\n",
        "# Assign colors based on correlation values\n",
        "\n",
        "ax = df_type.plot(kind='scatter', x='investor_id', y='corr', c=colors)\n",
        "\n",
        "# Set x-label and y-label\n",
        "ax.set_xlabel('Investor ID')\n",
        "ax.set_ylabel('Correlation')\n",
        "\n",
        "# Create legend\n",
        "legend_labels = ['Contrarian', 'Neutral', 'Trend following']\n",
        "legend_colors = ['red', 'green','blue']  # Colors for the legend\n",
        "\n",
        "# Plot invisible points for the legend\n",
        "for color, label in zip(legend_colors, legend_labels):\n",
        "    ax.scatter([], [], c=color, label=label)\n",
        "\n",
        "# Display legend\n",
        "ax.legend()\n",
        "\n",
        "plt.show()\n",
        "\n",
        "# Afficher les résultats\n",
        "print(\"Neutre :\", neutre_count)\n",
        "print(\"Trend :\", trend_count)\n",
        "print(\"Contrarian :\", contrarian_count)"
      ]
    },
    {
      "cell_type": "markdown",
      "metadata": {
        "id": "jOcuCXrKstX4"
      },
      "source": [
        "#  Investor behaviour: the influence of past price returns part 2"
      ]
    },
    {
      "cell_type": "markdown",
      "metadata": {
        "id": "FptIy19HvxlX"
      },
      "source": [
        "## une période"
      ]
    },
    {
      "cell_type": "code",
      "execution_count": null,
      "metadata": {
        "id": "c-J2kXTHi-PB"
      },
      "outputs": [],
      "source": [
        "from math import tanh"
      ]
    },
    {
      "cell_type": "code",
      "execution_count": null,
      "metadata": {
        "colab": {
          "base_uri": "https://localhost:8080/",
          "height": 455
        },
        "id": "z-HOJQZQ67Pm",
        "outputId": "e9b7d017-adc4-4a0e-aa4a-7c89c854e776"
      },
      "outputs": [
        {
          "data": {
            "text/html": [
              "<div>\n",
              "<style scoped>\n",
              "    .dataframe tbody tr th:only-of-type {\n",
              "        vertical-align: middle;\n",
              "    }\n",
              "\n",
              "    .dataframe tbody tr th {\n",
              "        vertical-align: top;\n",
              "    }\n",
              "\n",
              "    .dataframe thead th {\n",
              "        text-align: right;\n",
              "    }\n",
              "</style>\n",
              "<table border=\"1\" class=\"dataframe\">\n",
              "  <thead>\n",
              "    <tr style=\"text-align: right;\">\n",
              "      <th></th>\n",
              "      <th>close</th>\n",
              "    </tr>\n",
              "    <tr>\n",
              "      <th>date</th>\n",
              "      <th></th>\n",
              "    </tr>\n",
              "  </thead>\n",
              "  <tbody>\n",
              "    <tr>\n",
              "      <th>2000-01-03</th>\n",
              "      <td>22.01</td>\n",
              "    </tr>\n",
              "    <tr>\n",
              "      <th>2000-01-04</th>\n",
              "      <td>21.10</td>\n",
              "    </tr>\n",
              "    <tr>\n",
              "      <th>2000-01-05</th>\n",
              "      <td>20.11</td>\n",
              "    </tr>\n",
              "    <tr>\n",
              "      <th>2000-01-07</th>\n",
              "      <td>20.15</td>\n",
              "    </tr>\n",
              "    <tr>\n",
              "      <th>2000-01-10</th>\n",
              "      <td>20.76</td>\n",
              "    </tr>\n",
              "    <tr>\n",
              "      <th>...</th>\n",
              "      <td>...</td>\n",
              "    </tr>\n",
              "    <tr>\n",
              "      <th>2007-10-10</th>\n",
              "      <td>19.32</td>\n",
              "    </tr>\n",
              "    <tr>\n",
              "      <th>2007-10-11</th>\n",
              "      <td>20.67</td>\n",
              "    </tr>\n",
              "    <tr>\n",
              "      <th>2007-10-12</th>\n",
              "      <td>21.54</td>\n",
              "    </tr>\n",
              "    <tr>\n",
              "      <th>2007-10-15</th>\n",
              "      <td>21.51</td>\n",
              "    </tr>\n",
              "    <tr>\n",
              "      <th>2007-10-16</th>\n",
              "      <td>22.12</td>\n",
              "    </tr>\n",
              "  </tbody>\n",
              "</table>\n",
              "<p>1966 rows × 1 columns</p>\n",
              "</div>"
            ],
            "text/plain": [
              "            close\n",
              "date             \n",
              "2000-01-03  22.01\n",
              "2000-01-04  21.10\n",
              "2000-01-05  20.11\n",
              "2000-01-07  20.15\n",
              "2000-01-10  20.76\n",
              "...           ...\n",
              "2007-10-10  19.32\n",
              "2007-10-11  20.67\n",
              "2007-10-12  21.54\n",
              "2007-10-15  21.51\n",
              "2007-10-16  22.12\n",
              "\n",
              "[1966 rows x 1 columns]"
            ]
          },
          "execution_count": 26,
          "metadata": {},
          "output_type": "execute_result"
        }
      ],
      "source": [
        "prices = pd.read_csv('TEF_Prices.csv', index_col='date')\n",
        "price = prices[['close']]\n",
        "\n",
        "def serie(data, k, beta,lam, alpha) :\n",
        "    df = data.copy()\n",
        "    df.loc['2000-01-03', 'm_t'] = df.loc['2000-01-03', 'close'] * alpha\n",
        "    df.loc['2000-01-03', 'v_t'] = df.loc['2000-01-03', 'close'] * lam\n",
        "    df.loc['2000-01-03', f'k_{k}'] = k * (df.loc['2000-01-03', 'v_t'] - df.loc['2000-01-03', 'close'])\n",
        "    df.loc['2000-01-03', f'beta_{beta}'] = beta* tanh(df.loc['2000-01-03', 'm_t'])\n",
        "    for i in range(1, len(df)):\n",
        "        l_index = df.index.values.tolist()\n",
        "        df.loc[l_index[i], 'm_t'] = (1-alpha) * df.loc[l_index[i-1], 'm_t']  + alpha * (df.loc[l_index[i], 'close'] - df.loc[l_index[i-1], 'close'])\n",
        "        df.loc[l_index[i], 'v_t'] = (1-lam) * df.loc[l_index[i-1], 'v_t']  + lam * df.loc[l_index[i], 'close']\n",
        "        df.loc[l_index[i], f'k_{k}'] = k * (df.loc[l_index[i], 'v_t'] - df.loc[l_index[i], 'close'])\n",
        "        df.loc[l_index[i], f'beta_{beta}'] = beta* tanh(df.loc[l_index[i], 'm_t'])\n",
        "    return df\n",
        "def calcul(dataa, l_k, l_beta,lam=0.025, alpha=0.125) :\n",
        "    df = dataa.copy()\n",
        "    for i in range(len(l_k)) :\n",
        "        df = serie(df, l_k[i], l_beta[i], lam,alpha)\n",
        "    return df\n",
        "price\n"
      ]
    },
    {
      "cell_type": "code",
      "execution_count": null,
      "metadata": {
        "id": "2S9_TGTk7IJj"
      },
      "outputs": [],
      "source": [
        "l_k1 = [0.005, 0.01, 0.015, 0.02, 0.025, 0.03, 0.035, 0.04, 0.045, 0.05]\n",
        "l_beta1 = [0.005, 0.01, 0.015, 0.02, 0.025, 0.03, 0.035, 0.04, 0.045, 0.05]\n",
        "\n",
        "l_n1 = [f'beta_{l_beta1[i]}' for i in range(len(l_beta1))] + [f'k_{l_k1[i]}' for i in range(len(l_k1))]\n",
        "\n",
        "data = calcul(price, l_k1, l_beta1)\n",
        "data = data.drop(['m_t', 'v_t'], axis=1)"
      ]
    },
    {
      "cell_type": "code",
      "execution_count": null,
      "metadata": {
        "id": "Q1TAgtfm7UtO"
      },
      "outputs": [],
      "source": [
        "data_comp = pd.merge(df_investors, data, on=\"date\", how=\"outer\")\n",
        "data_comp = data_comp.dropna()\n",
        "data_comp = data_comp.loc[data_comp['position'] != 0]\n",
        "data_comp = data_comp[['investor_id', 'position'] + [n for n in l_n1]]\n",
        "data_comp\n",
        "df_corr_maj = data_comp.groupby(['investor_id']).corr()\n",
        "data1 = df_corr_maj.loc[(slice(None), 'position'),:]\n",
        "data1 = data1[[n for n in l_n1]]\n"
      ]
    },
    {
      "cell_type": "code",
      "execution_count": null,
      "metadata": {
        "colab": {
          "base_uri": "https://localhost:8080/",
          "height": 533
        },
        "id": "LiQtfIkE7ZIN",
        "outputId": "2cedbae0-58b9-45ed-8b66-f82e47392671"
      },
      "outputs": [
        {
          "data": {
            "text/plain": [
              "Text(0.5, 1.0, 'the histogram of the frequency')"
            ]
          },
          "execution_count": 31,
          "metadata": {},
          "output_type": "execute_result"
        },
        {
          "data": {
            "image/png": "[encoded data removed]",
            "text/plain": [
              "<Figure size 640x480 with 1 Axes>"
            ]
          },
          "metadata": {},
          "output_type": "display_data"
        }
      ],
      "source": [
        "maxfrequency = data1.abs().idxmax(axis = 1)\n",
        "maxfrequency.hist()\n",
        "plt.xticks(rotation=90)\n",
        "plt.title('the histogram of the frequency')"
      ]
    },
    {
      "cell_type": "code",
      "execution_count": null,
      "metadata": {
        "id": "LXbxrBJStJCT"
      },
      "outputs": [],
      "source": [
        "from math import tanh"
      ]
    },
    {
      "cell_type": "markdown",
      "metadata": {
        "id": "YhrQCy1zvewC"
      },
      "source": [
        "## deux périodes"
      ]
    },
    {
      "cell_type": "code",
      "execution_count": null,
      "metadata": {
        "colab": {
          "base_uri": "https://localhost:8080/",
          "height": 424
        },
        "id": "flUvZZ3zszW5",
        "outputId": "bca2acee-88d1-436f-abdb-1124984930da"
      },
      "outputs": [
        {
          "data": {
            "text/html": [
              "<div>\n",
              "<style scoped>\n",
              "    .dataframe tbody tr th:only-of-type {\n",
              "        vertical-align: middle;\n",
              "    }\n",
              "\n",
              "    .dataframe tbody tr th {\n",
              "        vertical-align: top;\n",
              "    }\n",
              "\n",
              "    .dataframe thead th {\n",
              "        text-align: right;\n",
              "    }\n",
              "</style>\n",
              "<table border=\"1\" class=\"dataframe\">\n",
              "  <thead>\n",
              "    <tr style=\"text-align: right;\">\n",
              "      <th></th>\n",
              "      <th>date</th>\n",
              "      <th>close</th>\n",
              "    </tr>\n",
              "  </thead>\n",
              "  <tbody>\n",
              "    <tr>\n",
              "      <th>0</th>\n",
              "      <td>2000-01-03</td>\n",
              "      <td>22.01</td>\n",
              "    </tr>\n",
              "    <tr>\n",
              "      <th>1</th>\n",
              "      <td>2000-01-04</td>\n",
              "      <td>21.10</td>\n",
              "    </tr>\n",
              "    <tr>\n",
              "      <th>2</th>\n",
              "      <td>2000-01-05</td>\n",
              "      <td>20.11</td>\n",
              "    </tr>\n",
              "    <tr>\n",
              "      <th>3</th>\n",
              "      <td>2000-01-07</td>\n",
              "      <td>20.15</td>\n",
              "    </tr>\n",
              "    <tr>\n",
              "      <th>4</th>\n",
              "      <td>2000-01-10</td>\n",
              "      <td>20.76</td>\n",
              "    </tr>\n",
              "    <tr>\n",
              "      <th>...</th>\n",
              "      <td>...</td>\n",
              "      <td>...</td>\n",
              "    </tr>\n",
              "    <tr>\n",
              "      <th>1961</th>\n",
              "      <td>2007-10-10</td>\n",
              "      <td>19.32</td>\n",
              "    </tr>\n",
              "    <tr>\n",
              "      <th>1962</th>\n",
              "      <td>2007-10-11</td>\n",
              "      <td>20.67</td>\n",
              "    </tr>\n",
              "    <tr>\n",
              "      <th>1963</th>\n",
              "      <td>2007-10-12</td>\n",
              "      <td>21.54</td>\n",
              "    </tr>\n",
              "    <tr>\n",
              "      <th>1964</th>\n",
              "      <td>2007-10-15</td>\n",
              "      <td>21.51</td>\n",
              "    </tr>\n",
              "    <tr>\n",
              "      <th>1965</th>\n",
              "      <td>2007-10-16</td>\n",
              "      <td>22.12</td>\n",
              "    </tr>\n",
              "  </tbody>\n",
              "</table>\n",
              "<p>1966 rows × 2 columns</p>\n",
              "</div>"
            ],
            "text/plain": [
              "            date  close\n",
              "0     2000-01-03  22.01\n",
              "1     2000-01-04  21.10\n",
              "2     2000-01-05  20.11\n",
              "3     2000-01-07  20.15\n",
              "4     2000-01-10  20.76\n",
              "...          ...    ...\n",
              "1961  2007-10-10  19.32\n",
              "1962  2007-10-11  20.67\n",
              "1963  2007-10-12  21.54\n",
              "1964  2007-10-15  21.51\n",
              "1965  2007-10-16  22.12\n",
              "\n",
              "[1966 rows x 2 columns]"
            ]
          },
          "execution_count": 32,
          "metadata": {},
          "output_type": "execute_result"
        }
      ],
      "source": [
        "prices = pd.read_csv('TEF_Prices.csv')\n",
        "price = prices[['date','close']]\n",
        "\n",
        "def serie1(data, k,beta, lam, alpha) :\n",
        "    df = data.copy()\n",
        "    df.loc['2000-01-03', 'm_t'] = df.loc['2000-01-03', 'close'] * alpha\n",
        "    df.loc['2000-01-03', 'v_t'] = df.loc['2000-01-03', 'close'] * lam\n",
        "    df.loc['2000-01-03', f'k_{k}'] = k * (df.loc['2000-01-03', 'v_t'] - df.loc['2000-01-03', 'close'])\n",
        "    df.loc['2000-01-03', f'beta_{beta}'] = beta*tanh(df.loc['2000-01-03', 'm_t'])\n",
        "    for i in range(1, len(df)):\n",
        "        l_index = df.index.values.tolist()\n",
        "        df.loc[l_index[i], 'm_t'] = (1-alpha) * df.loc[l_index[i-1], 'm_t']  + alpha * (df.loc[l_index[i], 'close'] - df.loc[l_index[i-1], 'close'])\n",
        "        df.loc[l_index[i], 'v_t'] = (1-lam) * df.loc[l_index[i-1], 'v_t']  + lam * df.loc[l_index[i], 'close']\n",
        "        df.loc[l_index[i], f'k_{k}'] = k * (df.loc[l_index[i], 'v_t'] - df.loc[l_index[i], 'close'])\n",
        "        df.loc[l_index[i], f'beta_{beta}'] = beta*tanh(df.loc[l_index[i], 'm_t'])\n",
        "    return df\n",
        "def serie2(data, k, beta,lam, alpha) :\n",
        "    df = data.copy()\n",
        "    df.loc['2004-01-02', 'm_t'] = df.loc['2004-01-02', 'close'] * alpha\n",
        "    df.loc['2004-01-02', 'v_t'] = df.loc['2004-01-02', 'close'] * lam\n",
        "    df.loc['2004-01-02', f'k_{k}'] = k * (df.loc['2004-01-02', 'v_t'] - df.loc['2004-01-02', 'close'])\n",
        "    df.loc['2004-01-02', f'beta_{beta}'] = beta* tanh(df.loc['2004-01-02', 'm_t'])\n",
        "    for i in range(1, len(df)):\n",
        "        l_index = df.index.values.tolist()\n",
        "        df.loc[l_index[i], 'm_t'] = (1-alpha) * df.loc[l_index[i-1], 'm_t']  + alpha * (df.loc[l_index[i], 'close'] - df.loc[l_index[i-1], 'close'])\n",
        "        df.loc[l_index[i], 'v_t'] = (1-lam) * df.loc[l_index[i-1], 'v_t']  + lam * df.loc[l_index[i], 'close']\n",
        "        df.loc[l_index[i], f'k_{k}'] = k * (df.loc[l_index[i], 'v_t'] - df.loc[l_index[i], 'close'])\n",
        "        df.loc[l_index[i], f'beta_{beta}'] = beta*tanh(df.loc[l_index[i], 'm_t'])\n",
        "    return df\n",
        "price"
      ]
    },
    {
      "cell_type": "code",
      "execution_count": null,
      "metadata": {
        "id": "LBi_VjUes25x"
      },
      "outputs": [],
      "source": [
        "def calcul1(dataframe,l_k, l_beta,lam=0.25, alpha=0.125) :\n",
        "    df = dataframe.copy()\n",
        "    for i in range(len(l_k)) :\n",
        "        df = serie1(df, l_k[i], l_beta[i], lam,alpha)\n",
        "    return df\n",
        "def calcul2(dataframe,l_k, l_beta,lam=0.25, alpha=0.125) :\n",
        "    df = dataframe.copy()\n",
        "    for i in range(len(l_k)) :\n",
        "        df = serie2(df, l_k[i], l_beta[i], lam,alpha)\n",
        "    return df"
      ]
    },
    {
      "cell_type": "code",
      "execution_count": null,
      "metadata": {
        "colab": {
          "base_uri": "https://localhost:8080/",
          "height": 455
        },
        "id": "wL9uihPVs8TZ",
        "outputId": "30204c29-2f7c-4a0d-a35e-3e74e10d6d2e"
      },
      "outputs": [
        {
          "data": {
            "text/html": [
              "<div>\n",
              "<style scoped>\n",
              "    .dataframe tbody tr th:only-of-type {\n",
              "        vertical-align: middle;\n",
              "    }\n",
              "\n",
              "    .dataframe tbody tr th {\n",
              "        vertical-align: top;\n",
              "    }\n",
              "\n",
              "    .dataframe thead th {\n",
              "        text-align: right;\n",
              "    }\n",
              "</style>\n",
              "<table border=\"1\" class=\"dataframe\">\n",
              "  <thead>\n",
              "    <tr style=\"text-align: right;\">\n",
              "      <th></th>\n",
              "      <th>close</th>\n",
              "    </tr>\n",
              "    <tr>\n",
              "      <th>date</th>\n",
              "      <th></th>\n",
              "    </tr>\n",
              "  </thead>\n",
              "  <tbody>\n",
              "    <tr>\n",
              "      <th>2004-01-02</th>\n",
              "      <td>12.00</td>\n",
              "    </tr>\n",
              "    <tr>\n",
              "      <th>2004-01-05</th>\n",
              "      <td>12.19</td>\n",
              "    </tr>\n",
              "    <tr>\n",
              "      <th>2004-01-07</th>\n",
              "      <td>12.47</td>\n",
              "    </tr>\n",
              "    <tr>\n",
              "      <th>2004-01-08</th>\n",
              "      <td>12.71</td>\n",
              "    </tr>\n",
              "    <tr>\n",
              "      <th>2004-01-09</th>\n",
              "      <td>12.50</td>\n",
              "    </tr>\n",
              "    <tr>\n",
              "      <th>...</th>\n",
              "      <td>...</td>\n",
              "    </tr>\n",
              "    <tr>\n",
              "      <th>2007-10-10</th>\n",
              "      <td>19.32</td>\n",
              "    </tr>\n",
              "    <tr>\n",
              "      <th>2007-10-11</th>\n",
              "      <td>20.67</td>\n",
              "    </tr>\n",
              "    <tr>\n",
              "      <th>2007-10-12</th>\n",
              "      <td>21.54</td>\n",
              "    </tr>\n",
              "    <tr>\n",
              "      <th>2007-10-15</th>\n",
              "      <td>21.51</td>\n",
              "    </tr>\n",
              "    <tr>\n",
              "      <th>2007-10-16</th>\n",
              "      <td>22.12</td>\n",
              "    </tr>\n",
              "  </tbody>\n",
              "</table>\n",
              "<p>964 rows × 1 columns</p>\n",
              "</div>"
            ],
            "text/plain": [
              "            close\n",
              "date             \n",
              "2004-01-02  12.00\n",
              "2004-01-05  12.19\n",
              "2004-01-07  12.47\n",
              "2004-01-08  12.71\n",
              "2004-01-09  12.50\n",
              "...           ...\n",
              "2007-10-10  19.32\n",
              "2007-10-11  20.67\n",
              "2007-10-12  21.54\n",
              "2007-10-15  21.51\n",
              "2007-10-16  22.12\n",
              "\n",
              "[964 rows x 1 columns]"
            ]
          },
          "execution_count": 34,
          "metadata": {},
          "output_type": "execute_result"
        }
      ],
      "source": [
        "date_split = '2004-01-01'\n",
        "\n",
        "\n",
        "prices1,prices2=df_prices.loc[df_prices['date'] < date_split],df_prices.loc[df_prices['date'] >= date_split]\n",
        "prices1_t,prices2_t=prices1[['close','date']],prices2[['close','date']]\n",
        "\n",
        "l_k = [0.005, 0.01, 0.015, 0.02, 0.025, 0.03, 0.035, 0.04, 0.045, 0.05]\n",
        "l_beta = [0.005, 0.01, 0.015, 0.02, 0.025, 0.03, 0.035, 0.04, 0.045, 0.05]\n",
        "\n",
        "l_n = [f'beta_{l_beta[i]}' for i in range(len(l_k))] + [f'k_{l_k[i]}' for i in range(len(l_k))]\n",
        "\n",
        "prices1_t = prices1_t.set_index('date')\n",
        "\n",
        "prices2_t = prices2_t.set_index('date')\n",
        "prices2_t"
      ]
    },
    {
      "cell_type": "code",
      "execution_count": null,
      "metadata": {
        "colab": {
          "base_uri": "https://localhost:8080/",
          "height": 519
        },
        "id": "QIRRK7-vtASj",
        "outputId": "550229f5-6440-4939-93ad-424b907cbb89"
      },
      "outputs": [
        {
          "data": {
            "text/html": [
              "<div>\n",
              "<style scoped>\n",
              "    .dataframe tbody tr th:only-of-type {\n",
              "        vertical-align: middle;\n",
              "    }\n",
              "\n",
              "    .dataframe tbody tr th {\n",
              "        vertical-align: top;\n",
              "    }\n",
              "\n",
              "    .dataframe thead th {\n",
              "        text-align: right;\n",
              "    }\n",
              "</style>\n",
              "<table border=\"1\" class=\"dataframe\">\n",
              "  <thead>\n",
              "    <tr style=\"text-align: right;\">\n",
              "      <th></th>\n",
              "      <th></th>\n",
              "      <th>beta_0.005</th>\n",
              "      <th>beta_0.01</th>\n",
              "      <th>beta_0.015</th>\n",
              "      <th>beta_0.02</th>\n",
              "      <th>beta_0.025</th>\n",
              "      <th>beta_0.03</th>\n",
              "      <th>beta_0.035</th>\n",
              "      <th>beta_0.04</th>\n",
              "      <th>beta_0.045</th>\n",
              "      <th>beta_0.05</th>\n",
              "      <th>k_0.005</th>\n",
              "      <th>k_0.01</th>\n",
              "      <th>k_0.015</th>\n",
              "      <th>k_0.02</th>\n",
              "      <th>k_0.025</th>\n",
              "      <th>k_0.03</th>\n",
              "      <th>k_0.035</th>\n",
              "      <th>k_0.04</th>\n",
              "      <th>k_0.045</th>\n",
              "      <th>k_0.05</th>\n",
              "    </tr>\n",
              "    <tr>\n",
              "      <th>investor_id</th>\n",
              "      <th></th>\n",
              "      <th></th>\n",
              "      <th></th>\n",
              "      <th></th>\n",
              "      <th></th>\n",
              "      <th></th>\n",
              "      <th></th>\n",
              "      <th></th>\n",
              "      <th></th>\n",
              "      <th></th>\n",
              "      <th></th>\n",
              "      <th></th>\n",
              "      <th></th>\n",
              "      <th></th>\n",
              "      <th></th>\n",
              "      <th></th>\n",
              "      <th></th>\n",
              "      <th></th>\n",
              "      <th></th>\n",
              "      <th></th>\n",
              "      <th></th>\n",
              "    </tr>\n",
              "  </thead>\n",
              "  <tbody>\n",
              "    <tr>\n",
              "      <th>551</th>\n",
              "      <th>position</th>\n",
              "      <td>0.112925</td>\n",
              "      <td>0.112925</td>\n",
              "      <td>0.112925</td>\n",
              "      <td>0.112925</td>\n",
              "      <td>0.112925</td>\n",
              "      <td>0.112925</td>\n",
              "      <td>0.112925</td>\n",
              "      <td>0.112925</td>\n",
              "      <td>0.112925</td>\n",
              "      <td>0.112925</td>\n",
              "      <td>-0.081021</td>\n",
              "      <td>-0.081021</td>\n",
              "      <td>-0.081021</td>\n",
              "      <td>-0.081021</td>\n",
              "      <td>-0.081021</td>\n",
              "      <td>-0.081021</td>\n",
              "      <td>-0.081021</td>\n",
              "      <td>-0.081021</td>\n",
              "      <td>-0.081021</td>\n",
              "      <td>-0.081021</td>\n",
              "    </tr>\n",
              "    <tr>\n",
              "      <th>744</th>\n",
              "      <th>position</th>\n",
              "      <td>-0.096310</td>\n",
              "      <td>-0.096310</td>\n",
              "      <td>-0.096310</td>\n",
              "      <td>-0.096310</td>\n",
              "      <td>-0.096310</td>\n",
              "      <td>-0.096310</td>\n",
              "      <td>-0.096310</td>\n",
              "      <td>-0.096310</td>\n",
              "      <td>-0.096310</td>\n",
              "      <td>-0.096310</td>\n",
              "      <td>0.073754</td>\n",
              "      <td>0.073754</td>\n",
              "      <td>0.073754</td>\n",
              "      <td>0.073754</td>\n",
              "      <td>0.073754</td>\n",
              "      <td>0.073754</td>\n",
              "      <td>0.073754</td>\n",
              "      <td>0.073754</td>\n",
              "      <td>0.073754</td>\n",
              "      <td>0.073754</td>\n",
              "    </tr>\n",
              "    <tr>\n",
              "      <th>886</th>\n",
              "      <th>position</th>\n",
              "      <td>NaN</td>\n",
              "      <td>NaN</td>\n",
              "      <td>NaN</td>\n",
              "      <td>NaN</td>\n",
              "      <td>NaN</td>\n",
              "      <td>NaN</td>\n",
              "      <td>NaN</td>\n",
              "      <td>NaN</td>\n",
              "      <td>NaN</td>\n",
              "      <td>NaN</td>\n",
              "      <td>NaN</td>\n",
              "      <td>NaN</td>\n",
              "      <td>NaN</td>\n",
              "      <td>NaN</td>\n",
              "      <td>NaN</td>\n",
              "      <td>NaN</td>\n",
              "      <td>NaN</td>\n",
              "      <td>NaN</td>\n",
              "      <td>NaN</td>\n",
              "      <td>NaN</td>\n",
              "    </tr>\n",
              "    <tr>\n",
              "      <th>1041</th>\n",
              "      <th>position</th>\n",
              "      <td>NaN</td>\n",
              "      <td>NaN</td>\n",
              "      <td>NaN</td>\n",
              "      <td>NaN</td>\n",
              "      <td>NaN</td>\n",
              "      <td>NaN</td>\n",
              "      <td>NaN</td>\n",
              "      <td>NaN</td>\n",
              "      <td>NaN</td>\n",
              "      <td>NaN</td>\n",
              "      <td>NaN</td>\n",
              "      <td>NaN</td>\n",
              "      <td>NaN</td>\n",
              "      <td>NaN</td>\n",
              "      <td>NaN</td>\n",
              "      <td>NaN</td>\n",
              "      <td>NaN</td>\n",
              "      <td>NaN</td>\n",
              "      <td>NaN</td>\n",
              "      <td>NaN</td>\n",
              "    </tr>\n",
              "    <tr>\n",
              "      <th>1309</th>\n",
              "      <th>position</th>\n",
              "      <td>0.136419</td>\n",
              "      <td>0.136419</td>\n",
              "      <td>0.136419</td>\n",
              "      <td>0.136419</td>\n",
              "      <td>0.136419</td>\n",
              "      <td>0.136419</td>\n",
              "      <td>0.136419</td>\n",
              "      <td>0.136419</td>\n",
              "      <td>0.136419</td>\n",
              "      <td>0.136419</td>\n",
              "      <td>0.023774</td>\n",
              "      <td>0.023774</td>\n",
              "      <td>0.023774</td>\n",
              "      <td>0.023774</td>\n",
              "      <td>0.023774</td>\n",
              "      <td>0.023774</td>\n",
              "      <td>0.023774</td>\n",
              "      <td>0.023774</td>\n",
              "      <td>0.023774</td>\n",
              "      <td>0.023774</td>\n",
              "    </tr>\n",
              "    <tr>\n",
              "      <th>...</th>\n",
              "      <th>...</th>\n",
              "      <td>...</td>\n",
              "      <td>...</td>\n",
              "      <td>...</td>\n",
              "      <td>...</td>\n",
              "      <td>...</td>\n",
              "      <td>...</td>\n",
              "      <td>...</td>\n",
              "      <td>...</td>\n",
              "      <td>...</td>\n",
              "      <td>...</td>\n",
              "      <td>...</td>\n",
              "      <td>...</td>\n",
              "      <td>...</td>\n",
              "      <td>...</td>\n",
              "      <td>...</td>\n",
              "      <td>...</td>\n",
              "      <td>...</td>\n",
              "      <td>...</td>\n",
              "      <td>...</td>\n",
              "      <td>...</td>\n",
              "    </tr>\n",
              "    <tr>\n",
              "      <th>18417</th>\n",
              "      <th>position</th>\n",
              "      <td>-0.058894</td>\n",
              "      <td>-0.058894</td>\n",
              "      <td>-0.058894</td>\n",
              "      <td>-0.058894</td>\n",
              "      <td>-0.058894</td>\n",
              "      <td>-0.058894</td>\n",
              "      <td>-0.058894</td>\n",
              "      <td>-0.058894</td>\n",
              "      <td>-0.058894</td>\n",
              "      <td>-0.058894</td>\n",
              "      <td>0.028074</td>\n",
              "      <td>0.028074</td>\n",
              "      <td>0.028074</td>\n",
              "      <td>0.028074</td>\n",
              "      <td>0.028074</td>\n",
              "      <td>0.028074</td>\n",
              "      <td>0.028074</td>\n",
              "      <td>0.028074</td>\n",
              "      <td>0.028074</td>\n",
              "      <td>0.028074</td>\n",
              "    </tr>\n",
              "    <tr>\n",
              "      <th>18425</th>\n",
              "      <th>position</th>\n",
              "      <td>NaN</td>\n",
              "      <td>NaN</td>\n",
              "      <td>NaN</td>\n",
              "      <td>NaN</td>\n",
              "      <td>NaN</td>\n",
              "      <td>NaN</td>\n",
              "      <td>NaN</td>\n",
              "      <td>NaN</td>\n",
              "      <td>NaN</td>\n",
              "      <td>NaN</td>\n",
              "      <td>NaN</td>\n",
              "      <td>NaN</td>\n",
              "      <td>NaN</td>\n",
              "      <td>NaN</td>\n",
              "      <td>NaN</td>\n",
              "      <td>NaN</td>\n",
              "      <td>NaN</td>\n",
              "      <td>NaN</td>\n",
              "      <td>NaN</td>\n",
              "      <td>NaN</td>\n",
              "    </tr>\n",
              "    <tr>\n",
              "      <th>18427</th>\n",
              "      <th>position</th>\n",
              "      <td>-0.121569</td>\n",
              "      <td>-0.121569</td>\n",
              "      <td>-0.121569</td>\n",
              "      <td>-0.121569</td>\n",
              "      <td>-0.121569</td>\n",
              "      <td>-0.121569</td>\n",
              "      <td>-0.121569</td>\n",
              "      <td>-0.121569</td>\n",
              "      <td>-0.121569</td>\n",
              "      <td>-0.121569</td>\n",
              "      <td>0.076791</td>\n",
              "      <td>0.076791</td>\n",
              "      <td>0.076791</td>\n",
              "      <td>0.076791</td>\n",
              "      <td>0.076791</td>\n",
              "      <td>0.076791</td>\n",
              "      <td>0.076791</td>\n",
              "      <td>0.076791</td>\n",
              "      <td>0.076791</td>\n",
              "      <td>0.076791</td>\n",
              "    </tr>\n",
              "    <tr>\n",
              "      <th>18428</th>\n",
              "      <th>position</th>\n",
              "      <td>-0.163881</td>\n",
              "      <td>-0.163881</td>\n",
              "      <td>-0.163881</td>\n",
              "      <td>-0.163881</td>\n",
              "      <td>-0.163881</td>\n",
              "      <td>-0.163881</td>\n",
              "      <td>-0.163881</td>\n",
              "      <td>-0.163881</td>\n",
              "      <td>-0.163881</td>\n",
              "      <td>-0.163881</td>\n",
              "      <td>0.107947</td>\n",
              "      <td>0.107947</td>\n",
              "      <td>0.107947</td>\n",
              "      <td>0.107947</td>\n",
              "      <td>0.107947</td>\n",
              "      <td>0.107947</td>\n",
              "      <td>0.107947</td>\n",
              "      <td>0.107947</td>\n",
              "      <td>0.107947</td>\n",
              "      <td>0.107947</td>\n",
              "    </tr>\n",
              "    <tr>\n",
              "      <th>18433</th>\n",
              "      <th>position</th>\n",
              "      <td>-0.145849</td>\n",
              "      <td>-0.145849</td>\n",
              "      <td>-0.145849</td>\n",
              "      <td>-0.145849</td>\n",
              "      <td>-0.145849</td>\n",
              "      <td>-0.145849</td>\n",
              "      <td>-0.145849</td>\n",
              "      <td>-0.145849</td>\n",
              "      <td>-0.145849</td>\n",
              "      <td>-0.145849</td>\n",
              "      <td>0.092157</td>\n",
              "      <td>0.092157</td>\n",
              "      <td>0.092157</td>\n",
              "      <td>0.092157</td>\n",
              "      <td>0.092157</td>\n",
              "      <td>0.092157</td>\n",
              "      <td>0.092157</td>\n",
              "      <td>0.092157</td>\n",
              "      <td>0.092157</td>\n",
              "      <td>0.092157</td>\n",
              "    </tr>\n",
              "  </tbody>\n",
              "</table>\n",
              "<p>350 rows × 20 columns</p>\n",
              "</div>"
            ],
            "text/plain": [
              "                      beta_0.005  beta_0.01  beta_0.015  beta_0.02  \\\n",
              "investor_id                                                          \n",
              "551         position    0.112925   0.112925    0.112925   0.112925   \n",
              "744         position   -0.096310  -0.096310   -0.096310  -0.096310   \n",
              "886         position         NaN        NaN         NaN        NaN   \n",
              "1041        position         NaN        NaN         NaN        NaN   \n",
              "1309        position    0.136419   0.136419    0.136419   0.136419   \n",
              "...                          ...        ...         ...        ...   \n",
              "18417       position   -0.058894  -0.058894   -0.058894  -0.058894   \n",
              "18425       position         NaN        NaN         NaN        NaN   \n",
              "18427       position   -0.121569  -0.121569   -0.121569  -0.121569   \n",
              "18428       position   -0.163881  -0.163881   -0.163881  -0.163881   \n",
              "18433       position   -0.145849  -0.145849   -0.145849  -0.145849   \n",
              "\n",
              "                      beta_0.025  beta_0.03  beta_0.035  beta_0.04  \\\n",
              "investor_id                                                          \n",
              "551         position    0.112925   0.112925    0.112925   0.112925   \n",
              "744         position   -0.096310  -0.096310   -0.096310  -0.096310   \n",
              "886         position         NaN        NaN         NaN        NaN   \n",
              "1041        position         NaN        NaN         NaN        NaN   \n",
              "1309        position    0.136419   0.136419    0.136419   0.136419   \n",
              "...                          ...        ...         ...        ...   \n",
              "18417       position   -0.058894  -0.058894   -0.058894  -0.058894   \n",
              "18425       position         NaN        NaN         NaN        NaN   \n",
              "18427       position   -0.121569  -0.121569   -0.121569  -0.121569   \n",
              "18428       position   -0.163881  -0.163881   -0.163881  -0.163881   \n",
              "18433       position   -0.145849  -0.145849   -0.145849  -0.145849   \n",
              "\n",
              "                      beta_0.045  beta_0.05   k_0.005    k_0.01   k_0.015  \\\n",
              "investor_id                                                                 \n",
              "551         position    0.112925   0.112925 -0.081021 -0.081021 -0.081021   \n",
              "744         position   -0.096310  -0.096310  0.073754  0.073754  0.073754   \n",
              "886         position         NaN        NaN       NaN       NaN       NaN   \n",
              "1041        position         NaN        NaN       NaN       NaN       NaN   \n",
              "1309        position    0.136419   0.136419  0.023774  0.023774  0.023774   \n",
              "...                          ...        ...       ...       ...       ...   \n",
              "18417       position   -0.058894  -0.058894  0.028074  0.028074  0.028074   \n",
              "18425       position         NaN        NaN       NaN       NaN       NaN   \n",
              "18427       position   -0.121569  -0.121569  0.076791  0.076791  0.076791   \n",
              "18428       position   -0.163881  -0.163881  0.107947  0.107947  0.107947   \n",
              "18433       position   -0.145849  -0.145849  0.092157  0.092157  0.092157   \n",
              "\n",
              "                        k_0.02   k_0.025    k_0.03   k_0.035    k_0.04  \\\n",
              "investor_id                                                              \n",
              "551         position -0.081021 -0.081021 -0.081021 -0.081021 -0.081021   \n",
              "744         position  0.073754  0.073754  0.073754  0.073754  0.073754   \n",
              "886         position       NaN       NaN       NaN       NaN       NaN   \n",
              "1041        position       NaN       NaN       NaN       NaN       NaN   \n",
              "1309        position  0.023774  0.023774  0.023774  0.023774  0.023774   \n",
              "...                        ...       ...       ...       ...       ...   \n",
              "18417       position  0.028074  0.028074  0.028074  0.028074  0.028074   \n",
              "18425       position       NaN       NaN       NaN       NaN       NaN   \n",
              "18427       position  0.076791  0.076791  0.076791  0.076791  0.076791   \n",
              "18428       position  0.107947  0.107947  0.107947  0.107947  0.107947   \n",
              "18433       position  0.092157  0.092157  0.092157  0.092157  0.092157   \n",
              "\n",
              "                       k_0.045    k_0.05  \n",
              "investor_id                               \n",
              "551         position -0.081021 -0.081021  \n",
              "744         position  0.073754  0.073754  \n",
              "886         position       NaN       NaN  \n",
              "1041        position       NaN       NaN  \n",
              "1309        position  0.023774  0.023774  \n",
              "...                        ...       ...  \n",
              "18417       position  0.028074  0.028074  \n",
              "18425       position       NaN       NaN  \n",
              "18427       position  0.076791  0.076791  \n",
              "18428       position  0.107947  0.107947  \n",
              "18433       position  0.092157  0.092157  \n",
              "\n",
              "[350 rows x 20 columns]"
            ]
          },
          "execution_count": 35,
          "metadata": {},
          "output_type": "execute_result"
        }
      ],
      "source": [
        "investors = pd.read_csv('TEF_Investors.csv')\n",
        "data1 = calcul1(prices1_t,l_k, l_beta)\n",
        "data1 = data1.drop(['m_t', 'v_t'], axis=1)\n",
        "data2 = calcul2(prices2_t, l_k, l_beta)\n",
        "data2 = data2.drop(['m_t', 'v_t'], axis=1)\n",
        "###1\n",
        "data_comp1 = pd.merge(investors, data1, on=\"date\", how=\"outer\")\n",
        "data_comp1 = data_comp1.dropna()\n",
        "data_comp1 = data_comp1.loc[data_comp1['position'] != 0]\n",
        "data_comp1 = data_comp1[['investor_id', 'position'] + [n for n in l_n]]\n",
        "\n",
        "data_corr_maj1 = data_comp1.groupby(['investor_id']).corr()\n",
        "data1_maj1 = data_corr_maj1.loc[(slice(None), 'position'),:]\n",
        "data1_maj1 = data1_maj1[[n for n in l_n]]\n",
        "data1_maj1\n",
        "###2\n",
        "data_comp2 = pd.merge(investors, data2, on=\"date\", how=\"outer\")\n",
        "data_comp2 = data_comp2.dropna()\n",
        "data_comp2 = data_comp2.loc[data_comp2['position'] != 0]\n",
        "data_comp2 = data_comp2[['investor_id', 'position'] + [n for n in l_n]]\n",
        "\n",
        "data_corr_maj2 = data_comp2.groupby(['investor_id']).corr()\n",
        "data1_maj2 = data_corr_maj2.loc[(slice(None), 'position'),:]\n",
        "data1_maj2 = data1_maj2[[n for n in l_n]]\n",
        "data1_maj2"
      ]
    },
    {
      "cell_type": "code",
      "execution_count": null,
      "metadata": {
        "colab": {
          "base_uri": "https://localhost:8080/",
          "height": 530
        },
        "id": "GRz5GqZFtfr7",
        "outputId": "f27ba16b-e07b-458e-dc07-0a161143dc27"
      },
      "outputs": [
        {
          "data": {
            "text/plain": [
              "Text(0.5, 1.0, 'the histogram of the frequency for the first period')"
            ]
          },
          "execution_count": 36,
          "metadata": {},
          "output_type": "execute_result"
        },
        {
          "data": {
            "image/png": "[encoded data removed]",
            "text/plain": [
              "<Figure size 640x480 with 1 Axes>"
            ]
          },
          "metadata": {},
          "output_type": "display_data"
        }
      ],
      "source": [
        "maxfrequency1 = data1_maj1.abs().idxmax(axis = 1)\n",
        "maxfrequency1.hist()\n",
        "plt.xticks(rotation=60)\n",
        "plt.title('the histogram of the frequency for the first period')"
      ]
    },
    {
      "cell_type": "code",
      "execution_count": null,
      "metadata": {
        "colab": {
          "base_uri": "https://localhost:8080/",
          "height": 530
        },
        "id": "HtpHxlrst3TD",
        "outputId": "480e7c49-b3e6-48ad-c2f9-57255c815653"
      },
      "outputs": [
        {
          "data": {
            "text/plain": [
              "Text(0.5, 1.0, 'the histogram of the frequency for the second period')"
            ]
          },
          "execution_count": 37,
          "metadata": {},
          "output_type": "execute_result"
        },
        {
          "data": {
            "image/png": "[encoded data removed]",
            "text/plain": [
              "<Figure size 640x480 with 1 Axes>"
            ]
          },
          "metadata": {},
          "output_type": "display_data"
        }
      ],
      "source": [
        "maxfrequency2 = data1_maj2.abs().idxmax(axis = 1)\n",
        "maxfrequency2.hist()\n",
        "plt.xticks(rotation=60)\n",
        "plt.title('the histogram of the frequency for the second period')"
      ]
    }
  ],
  "metadata": {
    "colab": {
      "provenance": [],
      "include_colab_link": true
    },
    "kernelspec": {
      "display_name": "Python 3",
      "name": "python3"
    },
    "language_info": {
      "name": "python",
      "version": "3.10.7"
    }
  },
  "nbformat": 4,
  "nbformat_minor": 0
}